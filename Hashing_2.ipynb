{
  "nbformat": 4,
  "nbformat_minor": 0,
  "metadata": {
    "colab": {
      "name": "Hashing 2.ipynb",
      "provenance": []
    },
    "kernelspec": {
      "name": "python3",
      "display_name": "Python 3"
    },
    "language_info": {
      "name": "python"
    }
  },
  "cells": [
    {
      "cell_type": "markdown",
      "source": [
        "Subarray Sum Equals K"
      ],
      "metadata": {
        "id": "8_ENmBp6BAND"
      }
    },
    {
      "cell_type": "code",
      "execution_count": null,
      "metadata": {
        "colab": {
          "base_uri": "https://localhost:8080/"
        },
        "id": "JXT4F8pqA1KO",
        "outputId": "c74de4dc-fd44-4eb3-e525-d66f96b357cd"
      },
      "outputs": [
        {
          "output_type": "stream",
          "name": "stdout",
          "text": [
            "2\n"
          ]
        }
      ],
      "source": [
        "def subarraySum(nums, k) -> int:\n",
        "       d = {}\n",
        "       d[0] = 1\n",
        "       s = 0\n",
        "       count = 0\n",
        "       for i in range(len(nums)):\n",
        "           s += nums[i]\n",
        "           if s-k in d: \n",
        "               count += d[s-k]\n",
        "           if s in d:\n",
        "               d[s] += 1 \n",
        "           else:\n",
        "               d[s] = 1\n",
        "       \n",
        "       return count\n",
        "print(subarraySum([1,2,3], 3))"
      ]
    },
    {
      "cell_type": "markdown",
      "source": [
        ""
      ],
      "metadata": {
        "id": "SJZxl8EIGyHu"
      }
    },
    {
      "cell_type": "code",
      "source": [
        ""
      ],
      "metadata": {
        "id": "N1KEpmZ9GyZP"
      },
      "execution_count": null,
      "outputs": []
    }
  ]
}